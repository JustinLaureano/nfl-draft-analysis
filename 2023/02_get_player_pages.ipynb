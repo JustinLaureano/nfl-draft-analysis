{
 "cells": [
  {
   "cell_type": "code",
   "execution_count": 23,
   "id": "2283ec4b",
   "metadata": {},
   "outputs": [],
   "source": [
    "import os.path\n",
    "import requests\n",
    "import time\n",
    "import pandas as pd"
   ]
  },
  {
   "cell_type": "code",
   "execution_count": 24,
   "id": "3dd7e50c",
   "metadata": {},
   "outputs": [],
   "source": [
    "df = pd.read_csv('players.csv')"
   ]
  },
  {
   "cell_type": "code",
   "execution_count": 28,
   "id": "c4963a20",
   "metadata": {},
   "outputs": [],
   "source": [
    "for index, row in df.iterrows():\n",
    "    file_path = f\"player_pages/{row['player']}.html\"\n",
    "    \n",
    "    if os.path.exists(file_path):\n",
    "        continue\n",
    "    \n",
    "    html = requests.get(row['player_url'])\n",
    "    \n",
    "    with open(file_path, 'wb+') as f:\n",
    "        f.write(html.content)\n",
    "    \n",
    "    # Don't want to get rate limited\n",
    "    time.sleep(2.2)\n",
    "    print(index)"
   ]
  },
  {
   "cell_type": "code",
   "execution_count": null,
   "id": "b16f2212",
   "metadata": {},
   "outputs": [],
   "source": []
  }
 ],
 "metadata": {
  "kernelspec": {
   "display_name": "Python 3 (ipykernel)",
   "language": "python",
   "name": "python3"
  },
  "language_info": {
   "codemirror_mode": {
    "name": "ipython",
    "version": 3
   },
   "file_extension": ".py",
   "mimetype": "text/x-python",
   "name": "python",
   "nbconvert_exporter": "python",
   "pygments_lexer": "ipython3",
   "version": "3.11.5"
  }
 },
 "nbformat": 4,
 "nbformat_minor": 5
}
