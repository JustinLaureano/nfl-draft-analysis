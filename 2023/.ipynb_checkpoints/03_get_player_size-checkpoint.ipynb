{
 "cells": [
  {
   "cell_type": "code",
   "execution_count": 59,
   "id": "3d26ee0a",
   "metadata": {},
   "outputs": [],
   "source": [
    "import re\n",
    "import pandas as pd\n",
    "from bs4 import BeautifulSoup"
   ]
  },
  {
   "cell_type": "code",
   "execution_count": 60,
   "id": "920f6964",
   "metadata": {},
   "outputs": [
    {
     "data": {
      "text/html": [
       "<div>\n",
       "<style scoped>\n",
       "    .dataframe tbody tr th:only-of-type {\n",
       "        vertical-align: middle;\n",
       "    }\n",
       "\n",
       "    .dataframe tbody tr th {\n",
       "        vertical-align: top;\n",
       "    }\n",
       "\n",
       "    .dataframe thead th {\n",
       "        text-align: right;\n",
       "    }\n",
       "</style>\n",
       "<table border=\"1\" class=\"dataframe\">\n",
       "  <thead>\n",
       "    <tr style=\"text-align: right;\">\n",
       "      <th></th>\n",
       "      <th>Unnamed: 0</th>\n",
       "      <th>player</th>\n",
       "      <th>player_url</th>\n",
       "      <th>rnd</th>\n",
       "      <th>pick</th>\n",
       "      <th>tm</th>\n",
       "      <th>pos</th>\n",
       "      <th>age</th>\n",
       "      <th>college</th>\n",
       "      <th>height_in</th>\n",
       "      <th>weight_lb</th>\n",
       "      <th>height_cm</th>\n",
       "      <th>weight_kg</th>\n",
       "    </tr>\n",
       "  </thead>\n",
       "  <tbody>\n",
       "    <tr>\n",
       "      <th>0</th>\n",
       "      <td>0</td>\n",
       "      <td>Bryce Young</td>\n",
       "      <td>https://www.pro-football-reference.com/players...</td>\n",
       "      <td>1</td>\n",
       "      <td>1</td>\n",
       "      <td>CAR</td>\n",
       "      <td>QB</td>\n",
       "      <td>22</td>\n",
       "      <td>Alabama</td>\n",
       "      <td>NaN</td>\n",
       "      <td>NaN</td>\n",
       "      <td>NaN</td>\n",
       "      <td>NaN</td>\n",
       "    </tr>\n",
       "  </tbody>\n",
       "</table>\n",
       "</div>"
      ],
      "text/plain": [
       "   Unnamed: 0       player                                         player_url  \\\n",
       "0           0  Bryce Young  https://www.pro-football-reference.com/players...   \n",
       "\n",
       "   rnd  pick   tm pos  age  college  height_in  weight_lb  height_cm  \\\n",
       "0    1     1  CAR  QB   22  Alabama        NaN        NaN        NaN   \n",
       "\n",
       "   weight_kg  \n",
       "0        NaN  "
      ]
     },
     "execution_count": 60,
     "metadata": {},
     "output_type": "execute_result"
    }
   ],
   "source": [
    "df = pd.read_csv('players_test.csv')\n",
    "df.head()"
   ]
  },
  {
   "cell_type": "code",
   "execution_count": 64,
   "id": "ae138b0e",
   "metadata": {},
   "outputs": [],
   "source": [
    "for index, row in df.iterrows():\n",
    "\n",
    "    html_file = f\"player_pages/{row['player']}.html\"\n",
    "    page = open(html_file)\n",
    "    soup = BeautifulSoup(page)\n",
    "    \n",
    "    meta = soup.find('div', id='meta')\n",
    "    meta_bio_tags = meta.find_all('div')[1].find_all('p')\n",
    "    meta_size_tag = meta_bio_tags[2]\n",
    "    \n",
    "    # get spans for imperial measurements\n",
    "    imperials = meta_size_tag.find_all('span')\n",
    "    \n",
    "    # get height ft raw\n",
    "    height_ft_raw = imperials[0].text\n",
    "    \n",
    "    # convert to inches\n",
    "    height_in = (int(height_ft_raw.split('-')[0]) * 12) + int(height_ft_raw.split('-')[1])\n",
    "    \n",
    "    # get weight lb raw\n",
    "    weight_lb_raw = imperials[1].text\n",
    "    \n",
    "    # get weight lbs\n",
    "    weight_lb = int(re.sub('lb', '', weight_lb_raw))\n",
    "    \n",
    "    # get metric raw\n",
    "    metric_search = re.search('\\(.*\\)', meta_size_tag.text)\n",
    "    metric_raw = metric_search.group(0)\n",
    "    \n",
    "    metric_raw_stripped = re.sub('\\(|\\)|cm|kg', '', metric_raw)\n",
    "    height_cm = int(metric_raw_stripped.split(',')[0])\n",
    "    weight_kg = int(metric_raw_stripped.split(',')[1])\n",
    "    \n",
    "    #print(height_ft_raw)\n",
    "    #print(height_in)\n",
    "    #print(weight_lb_raw)\n",
    "    #print(weight_lb)\n",
    "    #print(metric_raw)\n",
    "    #print(metric_raw_stripped)\n",
    "    #print(height_cm)\n",
    "    #print(weight_kg)\n",
    "    \n",
    "    df.at[index, 'height_in'] = height_in\n",
    "    df.at[index, 'weight_lb'] = weight_lb\n",
    "    df.at[index, 'height_cm'] = height_cm\n",
    "    df.at[index, 'weight_kg'] = weight_kg"
   ]
  },
  {
   "cell_type": "code",
   "execution_count": 65,
   "id": "0b222073",
   "metadata": {},
   "outputs": [],
   "source": [
    "df.head()\n",
    "df.to_csv('players_size.csv')"
   ]
  },
  {
   "cell_type": "code",
   "execution_count": null,
   "id": "81c9390f",
   "metadata": {},
   "outputs": [],
   "source": []
  }
 ],
 "metadata": {
  "kernelspec": {
   "display_name": "Python 3 (ipykernel)",
   "language": "python",
   "name": "python3"
  },
  "language_info": {
   "codemirror_mode": {
    "name": "ipython",
    "version": 3
   },
   "file_extension": ".py",
   "mimetype": "text/x-python",
   "name": "python",
   "nbconvert_exporter": "python",
   "pygments_lexer": "ipython3",
   "version": "3.11.5"
  }
 },
 "nbformat": 4,
 "nbformat_minor": 5
}
